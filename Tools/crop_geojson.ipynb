{
 "cells": [
  {
   "cell_type": "code",
   "execution_count": 24,
   "metadata": {},
   "outputs": [],
   "source": [
    "import geopandas as gpd\n",
    "from shapely.geometry import Polygon\n",
    "import glob,os"
   ]
  },
  {
   "attachments": {},
   "cell_type": "markdown",
   "metadata": {},
   "source": [
    "### Crop lon,lat"
   ]
  },
  {
   "cell_type": "code",
   "execution_count": 25,
   "metadata": {},
   "outputs": [],
   "source": [
    "# longitude, latitude\n",
    "lon_st = 117.0\n",
    "lat_st = 27.0\n",
    "lon_ed = 139.0\n",
    "lat_ed = 45.0"
   ]
  },
  {
   "attachments": {},
   "cell_type": "markdown",
   "metadata": {},
   "source": [
    "### High Quality Geojson"
   ]
  },
  {
   "cell_type": "code",
   "execution_count": 26,
   "metadata": {},
   "outputs": [],
   "source": [
    "# High Quality Geojson file list\n",
    "H_list = glob.glob('/Users/choiyoonjin/Dev/geo-modelweb/Data/MAP/h/*.json')\n",
    "# Use L1 ~ L4\n",
    "H_list = [x for x in H_list if not 'L5' in x]"
   ]
  },
  {
   "cell_type": "code",
   "execution_count": 27,
   "metadata": {},
   "outputs": [
    {
     "data": {
      "text/plain": [
       "['/Users/choiyoonjin/Dev/geo-modelweb/Data/MAP/h/GSHHS_h_L4.json',\n",
       " '/Users/choiyoonjin/Dev/geo-modelweb/Data/MAP/h/GSHHS_h_L3.json',\n",
       " '/Users/choiyoonjin/Dev/geo-modelweb/Data/MAP/h/GSHHS_h_L2.json',\n",
       " '/Users/choiyoonjin/Dev/geo-modelweb/Data/MAP/h/GSHHS_h_L1.json']"
      ]
     },
     "execution_count": 27,
     "metadata": {},
     "output_type": "execute_result"
    }
   ],
   "source": [
    "H_list"
   ]
  },
  {
   "attachments": {},
   "cell_type": "markdown",
   "metadata": {},
   "source": [
    "### Row Quality Geojson"
   ]
  },
  {
   "cell_type": "code",
   "execution_count": 28,
   "metadata": {},
   "outputs": [],
   "source": [
    "# Low Quality Geojson file list\n",
    "L_list = glob.glob('/Users/choiyoonjin/Dev/geo-modelweb/Data/MAP/l/*.json')\n",
    "# Use L1 ~ L4\n",
    "L_list = [x for x in L_list if not 'L5' in x]"
   ]
  },
  {
   "cell_type": "code",
   "execution_count": 29,
   "metadata": {},
   "outputs": [
    {
     "data": {
      "text/plain": [
       "['/Users/choiyoonjin/Dev/geo-modelweb/Data/MAP/l/GSHHS_l_L1.json',\n",
       " '/Users/choiyoonjin/Dev/geo-modelweb/Data/MAP/l/GSHHS_l_L3.json',\n",
       " '/Users/choiyoonjin/Dev/geo-modelweb/Data/MAP/l/GSHHS_l_L2.json',\n",
       " '/Users/choiyoonjin/Dev/geo-modelweb/Data/MAP/l/GSHHS_l_L4.json']"
      ]
     },
     "execution_count": 29,
     "metadata": {},
     "output_type": "execute_result"
    }
   ],
   "source": [
    "L_list"
   ]
  },
  {
   "attachments": {},
   "cell_type": "markdown",
   "metadata": {},
   "source": [
    "### Crop"
   ]
  },
  {
   "cell_type": "code",
   "execution_count": 30,
   "metadata": {},
   "outputs": [],
   "source": [
    "# save path\n",
    "path = '/Users/choiyoonjin/Dev/geo-modelweb/Data/MAP/crop/'\n",
    "# make directory\n",
    "if not os.path.isdir(path):\n",
    "    os.mkdir(path)"
   ]
  },
  {
   "cell_type": "code",
   "execution_count": 31,
   "metadata": {},
   "outputs": [],
   "source": [
    "# make polygon\n",
    "bbox_polygon = Polygon([(lon_st, lat_st), (lon_st, lat_ed), (lon_ed, lat_ed), (lon_ed, lat_st)])"
   ]
  },
  {
   "cell_type": "code",
   "execution_count": 32,
   "metadata": {},
   "outputs": [
    {
     "name": "stdout",
     "output_type": "stream",
     "text": [
      "Load : /Users/choiyoonjin/Dev/geo-modelweb/Data/MAP/h/GSHHS_h_L4.json\n",
      "Save : /Users/choiyoonjin/Dev/geo-modelweb/Data/MAP/crop/GSHHS_h_L4.json\n",
      "Load : /Users/choiyoonjin/Dev/geo-modelweb/Data/MAP/h/GSHHS_h_L3.json\n"
     ]
    },
    {
     "name": "stderr",
     "output_type": "stream",
     "text": [
      "/Users/choiyoonjin/opt/anaconda3/envs/geomweb/lib/python3.8/site-packages/geopandas/io/file.py:572: UserWarning: You are attempting to write an empty DataFrame to file. For some drivers, this operation may fail.\n",
      "  _to_file_fiona(df, filename, driver, schema, crs, mode, **kwargs)\n"
     ]
    },
    {
     "name": "stdout",
     "output_type": "stream",
     "text": [
      "Save : /Users/choiyoonjin/Dev/geo-modelweb/Data/MAP/crop/GSHHS_h_L3.json\n",
      "Load : /Users/choiyoonjin/Dev/geo-modelweb/Data/MAP/h/GSHHS_h_L2.json\n",
      "Save : /Users/choiyoonjin/Dev/geo-modelweb/Data/MAP/crop/GSHHS_h_L2.json\n",
      "Load : /Users/choiyoonjin/Dev/geo-modelweb/Data/MAP/h/GSHHS_h_L1.json\n",
      "Save : /Users/choiyoonjin/Dev/geo-modelweb/Data/MAP/crop/GSHHS_h_L1.json\n",
      "Load : /Users/choiyoonjin/Dev/geo-modelweb/Data/MAP/l/GSHHS_l_L1.json\n",
      "Save : /Users/choiyoonjin/Dev/geo-modelweb/Data/MAP/crop/GSHHS_l_L1.json\n",
      "Load : /Users/choiyoonjin/Dev/geo-modelweb/Data/MAP/l/GSHHS_l_L3.json\n",
      "Save : /Users/choiyoonjin/Dev/geo-modelweb/Data/MAP/crop/GSHHS_l_L3.json\n",
      "Load : /Users/choiyoonjin/Dev/geo-modelweb/Data/MAP/l/GSHHS_l_L2.json\n",
      "Save : /Users/choiyoonjin/Dev/geo-modelweb/Data/MAP/crop/GSHHS_l_L2.json\n",
      "Load : /Users/choiyoonjin/Dev/geo-modelweb/Data/MAP/l/GSHHS_l_L4.json\n",
      "Save : /Users/choiyoonjin/Dev/geo-modelweb/Data/MAP/crop/GSHHS_l_L4.json\n"
     ]
    }
   ],
   "source": [
    "# crop geojson\n",
    "for i in H_list:\n",
    "    print(f'Load : {i}')\n",
    "    gdf = gpd.read_file(i)\n",
    "    gdf = gdf[gdf.geometry.intersects(bbox_polygon)]\n",
    "    gdf.to_file(path + i.split('/')[-1])\n",
    "    print(f'Save : {path + i.split(\"/\")[-1]}')\n",
    "\n",
    "for i in L_list:\n",
    "    print(f'Load : {i}')\n",
    "    gdf = gpd.read_file(i)\n",
    "    gdf = gdf[~gdf.geometry.intersects(bbox_polygon)]\n",
    "    gdf.to_file(path + i.split('/')[-1])\n",
    "    print(f'Save : {path + i.split(\"/\")[-1]}')"
   ]
  }
 ],
 "metadata": {
  "kernelspec": {
   "display_name": "geomweb",
   "language": "python",
   "name": "python3"
  },
  "language_info": {
   "codemirror_mode": {
    "name": "ipython",
    "version": 3
   },
   "file_extension": ".py",
   "mimetype": "text/x-python",
   "name": "python",
   "nbconvert_exporter": "python",
   "pygments_lexer": "ipython3",
   "version": "3.8.16"
  },
  "orig_nbformat": 4
 },
 "nbformat": 4,
 "nbformat_minor": 2
}

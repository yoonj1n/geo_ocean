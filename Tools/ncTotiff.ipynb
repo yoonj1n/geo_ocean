{
 "cells": [
  {
   "cell_type": "code",
   "execution_count": 1,
   "metadata": {},
   "outputs": [],
   "source": [
    "import rasterio\n",
    "import netCDF4 as nc\n",
    "import numpy as np\n",
    "import xarray as xr\n",
    "import cartopy.crs as ccrs\n",
    "import matplotlib.pyplot as plt"
   ]
  },
  {
   "cell_type": "code",
   "execution_count": 11,
   "metadata": {},
   "outputs": [],
   "source": [
    "class NCTOTIFF:\n",
    "    def __init__(self, file_path):\n",
    "        self._filepath = file_path\n",
    "        self._f = nc.Dataset(self._filepath)\n",
    "        self._lat = self._f.variables['lat_rho'][:-1,:-1] \n",
    "        self._lon = self._f.variables['lon_rho'][:-1,:-1]\n",
    "        self._latmin = np.max(self._lat)\n",
    "        self._lonmin = np.min(self._lon)\n",
    "        self._U = self._f.variables['u'][0,-1,:-1,:]\n",
    "        self._U = self._U[::-1,:]\n",
    "        self._V = self._f.variables['v'][0,-1,:,:-1]\n",
    "        self._V = self._V[::-1,:]\n",
    "        self._nx, self._ny = self._lat.shape[1], self._lon.shape[0]\n",
    "        self._lonstep = (self._lon[0,-1] - self._lon[0,0]) / self._nx\n",
    "        self._latstep = (self._lat[-1,0] - self._lat[0,0]) / self._ny\n",
    "\n",
    "    def SHraw(self, dataNum=10, scale=10):\n",
    "        \"\"\"\n",
    "            Show Raw data\n",
    "\n",
    "            Args:\n",
    "                - dataNum(`int`) : split u,v data using number [default = 10]\n",
    "                - scalse(`int`) : set plot scale using number [default = 10]\n",
    "        \"\"\"\n",
    "        plt.figure(figsize=(10, 8))\n",
    "        ax = plt.axes(projection=ccrs.PlateCarree())\n",
    "        u = self._U[::-1,:]\n",
    "        v = self._V[::-1,:]\n",
    "\n",
    "        ax.quiver(self._lon[::dataNum,::dataNum], self._lat[::dataNum,::dataNum],u[::dataNum,::dataNum],v[::dataNum,::dataNum],scale=scale)\n",
    "        ax.coastlines()\n",
    "        \n",
    "    def SVtiff(self, saveName):\n",
    "        \"\"\"\n",
    "            Save tiff file\n",
    "\n",
    "            Args:\n",
    "                - saveName(`string`) : save name\n",
    "        \"\"\"\n",
    "        direction = (np.arctan2(self._V, -self._U) * (180 / np.pi)+90)%360\n",
    "        direction.fill_value=-9999\n",
    "        speed = np.sqrt(self._U**2+self._V**2)\n",
    "        sname = saveName+'.tif'\n",
    "\n",
    "        with rasterio.open(\n",
    "            sname,\n",
    "            'w',\n",
    "            driver='GTiff',\n",
    "            height=self._U.shape[0],\n",
    "            width=self._U.shape[1],\n",
    "            count=2,\n",
    "            dtype=speed.dtype,\n",
    "            crs='EPSG:4326',\n",
    "            transform=rasterio.transform.from_origin(self._lonmin,self._latmin,self._lonstep,self._latstep),\n",
    "        ) as dst:\n",
    "            dst.write(speed,1)\n",
    "            dst.write(direction,2)"
   ]
  },
  {
   "cell_type": "code",
   "execution_count": 9,
   "metadata": {},
   "outputs": [],
   "source": [
    "west = NCTOTIFF(file_path ='/Users/choiyoonjin/Dev/geo-modelweb/Data/MODEL/nc/his_west_20220703_00091.nc')\n",
    "# south = NCTOTIFF('/Users/choiyoonjin/Dev/geo-modelweb/Data/nc/his_south_20220523_00056.nc')"
   ]
  },
  {
   "cell_type": "code",
   "execution_count": 10,
   "metadata": {},
   "outputs": [
    {
     "data": {
      "text/plain": [
       "(308, 170)"
      ]
     },
     "execution_count": 10,
     "metadata": {},
     "output_type": "execute_result"
    }
   ],
   "source": [
    "west._V.shape"
   ]
  },
  {
   "cell_type": "code",
   "execution_count": 8,
   "metadata": {},
   "outputs": [
    {
     "data": {
      "text/plain": [
       "(308, 170)"
      ]
     },
     "execution_count": 8,
     "metadata": {},
     "output_type": "execute_result"
    }
   ],
   "source": [
    "west._V.shape"
   ]
  },
  {
   "cell_type": "code",
   "execution_count": 9,
   "metadata": {},
   "outputs": [
    {
     "data": {
      "text/plain": [
       "170"
      ]
     },
     "execution_count": 9,
     "metadata": {},
     "output_type": "execute_result"
    }
   ],
   "source": [
    "west._nx"
   ]
  },
  {
   "cell_type": "code",
   "execution_count": 6,
   "metadata": {},
   "outputs": [
    {
     "data": {
      "text/plain": [
       "308"
      ]
     },
     "execution_count": 6,
     "metadata": {},
     "output_type": "execute_result"
    }
   ],
   "source": [
    "west._ny"
   ]
  },
  {
   "cell_type": "code",
   "execution_count": 4,
   "metadata": {},
   "outputs": [
    {
     "data": {
      "text/plain": [
       "0.011045751633983096"
      ]
     },
     "execution_count": 4,
     "metadata": {},
     "output_type": "execute_result"
    }
   ],
   "source": [
    "west._lonstep"
   ]
  },
  {
   "cell_type": "code",
   "execution_count": 69,
   "metadata": {},
   "outputs": [
    {
     "name": "stderr",
     "output_type": "stream",
     "text": [
      "/Users/choiyoonjin/opt/anaconda3/envs/geomweb/lib/python3.8/site-packages/numpy/ma/core.py:6900: RuntimeWarning: overflow encountered in power\n",
      "  result = np.where(m, fa, umath.power(fa, fb)).view(basetype)\n"
     ]
    }
   ],
   "source": [
    "west.SVtiff('west')\n",
    "south.SVtiff('south')"
   ]
  },
  {
   "cell_type": "code",
   "execution_count": null,
   "metadata": {},
   "outputs": [],
   "source": []
  }
 ],
 "metadata": {
  "kernelspec": {
   "display_name": "base",
   "language": "python",
   "name": "python3"
  },
  "language_info": {
   "codemirror_mode": {
    "name": "ipython",
    "version": 3
   },
   "file_extension": ".py",
   "mimetype": "text/x-python",
   "name": "python",
   "nbconvert_exporter": "python",
   "pygments_lexer": "ipython3",
   "version": "3.8.16"
  },
  "orig_nbformat": 4
 },
 "nbformat": 4,
 "nbformat_minor": 2
}

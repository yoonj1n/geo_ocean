{
 "cells": [
  {
   "cell_type": "code",
   "execution_count": 18,
   "metadata": {},
   "outputs": [],
   "source": [
    "import netCDF4 as nc\n",
    "import numpy as np"
   ]
  },
  {
   "cell_type": "code",
   "execution_count": 19,
   "metadata": {},
   "outputs": [],
   "source": [
    "# read raw nc file\n",
    "class NCTOTIFF:\n",
    "    def __init__(self,path,mode):\n",
    "        self._filepath = path\n",
    "        self._mode = mode\n",
    "        self._raw = None\n",
    "        self._data = None\n",
    "        self._lat = None\n",
    "        self._lon = None\n",
    "        self._nx, self._ny = None, None\n",
    "        self._step_lon, self._step_lat = None, None\n",
    "\n",
    "    def read(self):\n",
    "        self._raw = nc.Dataset(self._filepath)\n",
    "        if '10m' == self._mode:\n",
    "            self._lat = self._raw.variables['latitude'][:]\n",
    "            self._lon = self._raw.variables['longitude'][:]\n",
    "        elif 'chl' == self._mode:\n",
    "            self._lat = self._raw.variables['lat'][:]\n",
    "            self._lat = self._lat[::10,::10]\n",
    "            self._lon = self._raw.variables['lon'][:]\n",
    "            self._lon = self._lon[::10,::10]\n",
    "            \n",
    "        else:\n",
    "            self._lat = self._raw.variables['lat'][:]\n",
    "            self._lon = self._raw.variables['lon'][:]\n",
    "        self._latmin = np.min(self._lat)\n",
    "        self._lonmin = np.min(self._lon)\n",
    "        self._latmax = np.max(self._lat)\n",
    "        self._lonmax = np.max(self._lon)\n",
    "\n",
    "        if 'UNIST' in self._filepath:\n",
    "            self._nx, self._ny = self._lon.shape[0], self._lat.shape[0]\n",
    "            self._lonstep = (self._lon[-1] - self._lon[0]) / self._nx\n",
    "            self._latstep = (self._lat[-1] - self._lat[0]) / self._ny\n",
    "        elif self._mode == 'SSC':\n",
    "            self._nx, self._ny = self._lon.shape[0], self._lat.shape[0]\n",
    "            self._lonstep = (self._lon[-1] - self._lon[0]) / self._nx\n",
    "            self._latstep = (self._lat[0] - self._lat[-1]) / self._ny\n",
    "        elif self._mode == '10m':\n",
    "            self._nx, self._ny = self._lon.shape[0], self._lat.shape[1]\n",
    "            self._lonstep = (self._lon[-1,0] - self._lon[0,0]) / self._nx\n",
    "            self._latstep = ( self._lat[0,0] - self._lat[0,-1] ) / self._ny\n",
    "            self._lon = self._lon.T\n",
    "            self._lat = self._lat.T[::-1,:]\n",
    "        else:\n",
    "            self._nx, self._ny = self._lon.shape[1], self._lat.shape[0]\n",
    "            self._lat = self._lat[::-1,:]\n",
    "            set_lon = int(self._nx/2)\n",
    "            set_lat = int(self._ny/2)\n",
    "            self._lonstep = (self._lon[set_lon,-1] - self._lon[set_lon,0]) / (self._nx-1)\n",
    "            self._latstep = -(self._lat[-1,set_lat] - self._lat[0,set_lat]) / (self._ny-1)\n",
    "\n",
    "\n",
    "        if self._mode == 'SST':\n",
    "            interval = 'Daily' if 'Daily' in self._filepath else 'Hourly'\n",
    "            self._data = self._raw.variables[f'{interval}_SST'][:]\n",
    "        elif self._mode == 'SSS':\n",
    "            self._data = self._raw.variables['DL_Interpolated_SSS'][:]\n",
    "        elif self._mode == 'chl':\n",
    "            self._data = self._raw.variables['merged_daily_Chl'][:]\n",
    "            self._data = self._data[::10,::10]\n",
    "\n",
    "            \n",
    "        elif self._mode == '10m':\n",
    "            self._time = self._raw.variables['time'][:]\n",
    "            self._time = [self.julian_to_date(t) for t in self._time]\n",
    "            self._data = self._raw.variables['10m salinity'][:]\n",
    "        else:\n",
    "            self._time = self._raw.variables['time'][:]\n",
    "            self._time = [self.julian_to_date(t) for t in self._time]\n",
    "            self._U = self._raw.variables['us'][:]\n",
    "            self._V = self._raw.variables['vs'][:]\n",
    "\n",
    "    def julian_to_date(self,julian):\n",
    "        date = datetime.fromordinal(int(julian)) + timedelta(days=julian%1) - timedelta(days = 366)\n",
    "        return date.strftime(\"%Y%m%d\")\n",
    "\n",
    "    def save(self):\n",
    "        dirname = os.path.dirname(self._filepath)\n",
    "        # make save folder\n",
    "        if not os.path.exists(f'{dirname}/tif'):\n",
    "            os.makedirs(f'{dirname}/tif')\n",
    "        filename = os.path.basename(self._filepath).replace('.nc','.tif')\n",
    "        \n",
    "        if not 'PNU' in self._filepath:\n",
    "            savepath = f'{dirname}/tif/{filename}'\n",
    "            self._data.fill_value=-9999\n",
    "\n",
    "            with rasterio.open(savepath, 'w', \n",
    "                        driver='GTiff', \n",
    "                        height=self._data.shape[0],\n",
    "                        width=self._data.shape[1],\n",
    "                        count=1, \n",
    "                        dtype=self._data.dtype,\n",
    "                        crs='EPSG:4326', \n",
    "                        transform=rasterio.transform.from_origin(self._lonmin,self._latmin,self._lonstep,self._latstep),\n",
    "                        ) as dst:\n",
    "                dst.write(self._data, 1)\n",
    "        \n",
    "        elif self._mode == 'SSC':\n",
    "            for i in range(len(self._time)):\n",
    "                date = self._time[i]\n",
    "                U = self._U[i,:,:]\n",
    "                U = U[::-1,:]\n",
    "                V = self._V[i,:,:]\n",
    "                V = V[::-1,:]\n",
    "                speed_data = np.sqrt(U**2+V**2)\n",
    "                _data = (np.arctan2(V,-U)*(180/np.pi)+90)%360\n",
    "                _data.fill_value=-9999\n",
    "                savepath = f'{dirname}/tif/{date}_{filename}'\n",
    "                with rasterio.open(savepath, 'w', \n",
    "                                driver='GTiff', \n",
    "                                height=_data.shape[0],\n",
    "                                width=_data.shape[1],\n",
    "                                count=2, \n",
    "                                dtype=_data.dtype,\n",
    "                                crs='EPSG:4326', \n",
    "                                transform=rasterio.transform.from_origin(self._lonmin,self._latmin,self._lonstep,self._latstep),\n",
    "                                ) as dst:\n",
    "                    dst.write(speed_data, 1)\n",
    "                    dst.write(_data, 2)\n",
    "        \n",
    "            \n",
    "        else:\n",
    "            for i in range(len(self._time)):\n",
    "                date = self._time[i]\n",
    "                _data = self._data[i,:,:]\n",
    "                if self._mode == '10m':\n",
    "                    _data = _data.T\n",
    "                    _data = _data[::-1,:]\n",
    "                _data.fill_value=-9999\n",
    "\n",
    "                savepath = f'{dirname}/tif/{date}_{filename}'\n",
    "\n",
    "\n",
    "                with rasterio.open(savepath, 'w', \n",
    "                                driver='GTiff', \n",
    "                                height=_data.shape[0],\n",
    "                                width=_data.shape[1],\n",
    "                                count=1, \n",
    "                                dtype=_data.dtype,\n",
    "                                crs='EPSG:4326', \n",
    "                                transform=rasterio.transform.from_origin(self._lonmin,self._latmin,self._lonstep,self._latstep),\n",
    "                                ) as dst:\n",
    "                    dst.write(_data, 1)\n"
   ]
  },
  {
   "cell_type": "code",
   "execution_count": 3,
   "metadata": {},
   "outputs": [],
   "source": []
  },
  {
   "cell_type": "code",
   "execution_count": 20,
   "metadata": {},
   "outputs": [],
   "source": [
    "from scipy.interpolate import griddata\n",
    "import matplotlib.pyplot as plt\n",
    "from mpl_toolkits.basemap import Basemap\n"
   ]
  },
  {
   "cell_type": "code",
   "execution_count": 21,
   "metadata": {},
   "outputs": [],
   "source": [
    "# read data\n",
    "\n",
    "TEST = NCTOTIFF('/home/nifs_big/model_web_yj/geo-modelweb/Data/MODEL/new/chl/UST21_L3_Merged-Chla-1D_20200901.nc','chl')\n",
    "TEST.read()\n",
    "\n",
    "val = TEST._data\n",
    "lat = TEST._lat[::-1]\n",
    "lon = TEST._lon"
   ]
  },
  {
   "cell_type": "code",
   "execution_count": 22,
   "metadata": {},
   "outputs": [
    {
     "data": {
      "text/plain": [
       "(800, 1050)"
      ]
     },
     "execution_count": 22,
     "metadata": {},
     "output_type": "execute_result"
    }
   ],
   "source": [
    "val.shape"
   ]
  },
  {
   "cell_type": "code",
   "execution_count": 23,
   "metadata": {},
   "outputs": [
    {
     "name": "stderr",
     "output_type": "stream",
     "text": [
      "/tmp/ipykernel_29948/3996330910.py:1: UserWarning: The input coordinates to pcolormesh are interpreted as cell centers, but are not monotonically increasing or decreasing. This may lead to incorrectly calculated cell edges, in which case, please supply explicit cell edges to pcolormesh.\n",
      "  plt.pcolormesh(lon, lat, val, cmap='jet')\n"
     ]
    },
    {
     "data": {
      "text/plain": [
       "<matplotlib.collections.QuadMesh at 0x7f995c7cbcd0>"
      ]
     },
     "execution_count": 23,
     "metadata": {},
     "output_type": "execute_result"
    },
    {
     "data": {
      "image/png": "[encoded data removed]",
      "text/plain": [
       "<Figure size 640x480 with 1 Axes>"
      ]
     },
     "metadata": {},
     "output_type": "display_data"
    }
   ],
   "source": [
    "plt.pcolormesh(lon, lat, val, cmap='jet')"
   ]
  },
  {
   "cell_type": "code",
   "execution_count": 24,
   "metadata": {},
   "outputs": [],
   "source": [
    "latmin = np.min(lat)\n",
    "lonmin = np.min(lon)\n",
    "latmax = np.max(lat)\n",
    "lonmax = np.max(lon)\n",
    "\n",
    "nx, ny = lon.shape[0], lat.shape[0]\n",
    "lon_grid = np.linspace(lonmin, lonmax, nx)\n",
    "lat_grid = np.linspace(latmin, latmax, ny)\n",
    "lon_grid, lat_grid = np.meshgrid(lon_grid, lat_grid)\n",
    "\n",
    "points = np.column_stack((lon.ravel(), lat.ravel()))\n",
    "values = val.ravel()\n",
    "\n",
    "# mapping to new grid\n",
    "vis_vals = griddata(points, values, (lon_grid, lat_grid), method='nearest')\n"
   ]
  },
  {
   "cell_type": "code",
   "execution_count": 25,
   "metadata": {},
   "outputs": [
    {
     "data": {
      "text/plain": [
       "array([[111.60403442, 111.65311196, 111.7021895 , ..., 150.71883101,\n",
       "        150.76790855, 150.81698608],\n",
       "       [111.60403442, 111.65311196, 111.7021895 , ..., 150.71883101,\n",
       "        150.76790855, 150.81698608],\n",
       "       [111.60403442, 111.65311196, 111.7021895 , ..., 150.71883101,\n",
       "        150.76790855, 150.81698608],\n",
       "       ...,\n",
       "       [111.60403442, 111.65311196, 111.7021895 , ..., 150.71883101,\n",
       "        150.76790855, 150.81698608],\n",
       "       [111.60403442, 111.65311196, 111.7021895 , ..., 150.71883101,\n",
       "        150.76790855, 150.81698608],\n",
       "       [111.60403442, 111.65311196, 111.7021895 , ..., 150.71883101,\n",
       "        150.76790855, 150.81698608]])"
      ]
     },
     "execution_count": 25,
     "metadata": {},
     "output_type": "execute_result"
    }
   ],
   "source": [
    "lon_grid"
   ]
  },
  {
   "cell_type": "code",
   "execution_count": 26,
   "metadata": {},
   "outputs": [
    {
     "data": {
      "text/plain": [
       "<matplotlib.collections.QuadMesh at 0x7f995af505b0>"
      ]
     },
     "execution_count": 26,
     "metadata": {},
     "output_type": "execute_result"
    },
    {
     "data": {
      "image/png": "[encoded data removed]",
      "text/plain": [
       "<Figure size 640x480 with 1 Axes>"
      ]
     },
     "metadata": {},
     "output_type": "display_data"
    }
   ],
   "source": [
    "plt.pcolormesh(lon_grid, lat_grid, vis_vals, cmap='jet')"
   ]
  },
  {
   "cell_type": "code",
   "execution_count": 27,
   "metadata": {},
   "outputs": [
    {
     "name": "stdout",
     "output_type": "stream",
     "text": [
      "800 800\n",
      "(800, 800)\n",
      "(800, 800)\n",
      "(800, 800)\n"
     ]
    },
    {
     "data": {
      "text/plain": [
       "<matplotlib.collections.QuadMesh at 0x7f995c504e80>"
      ]
     },
     "execution_count": 27,
     "metadata": {},
     "output_type": "execute_result"
    },
    {
     "data": {
      "image/png": "[encoded data removed]",
      "text/plain": [
       "<Figure size 640x480 with 1 Axes>"
      ]
     },
     "metadata": {},
     "output_type": "display_data"
    }
   ],
   "source": [
    "import numpy as np\n",
    "\n",
    "# 데이터 다운샘플링 및 격자 생성 함수\n",
    "def downsample_data_and_grid(data, lat, lon, resolution):\n",
    "    # NaN 값을 -inf로 대체\n",
    "    data = np.where(np.isnan(data), -np.inf, data)\n",
    "\n",
    "    # 데이터 및 격자 재구조화\n",
    "    ny, nx = data.shape\n",
    "    new_ny, new_nx = ny // resolution, nx // resolution\n",
    "    \n",
    "    print(new_ny, new_nx)\n",
    "    \n",
    "    reshaped_data = data[:new_ny*resolution, :new_nx*resolution].reshape(new_ny, resolution, new_nx, resolution)\n",
    "    reshaped_lat = lat[:new_ny*resolution, :new_nx*resolution].reshape(new_ny, resolution, new_nx, resolution)\n",
    "    reshaped_lon = lon[:new_ny*resolution, :new_nx*resolution].reshape(new_ny, resolution, new_nx, resolution)\n",
    "\n",
    "    # 각 블록의 최대값 및 평균 위치 계산\n",
    "    downsampled_data = np.nanmax(reshaped_data, axis=(1, 3))\n",
    "    downsampled_lat = np.nanmean(reshaped_lat, axis=(1, 3))\n",
    "    downsampled_lon = np.nanmean(reshaped_lon, axis=(1, 3))\n",
    "\n",
    "    return downsampled_data, downsampled_lat, downsampled_lon\n",
    "\n",
    "# 해상도 설정 (예: 10)\n",
    "resolution = 1\n",
    "\n",
    "# val, lat, lon 데이터에 대한 해상도 변경\n",
    "downsampled_val, downsampled_lat, downsampled_lon = downsample_data_and_grid(vis_vals, lat_grid, lon_grid, resolution)\n",
    "\n",
    "print(downsampled_val.shape)\n",
    "print(downsampled_lat.shape)\n",
    "print(downsampled_lon.shape)\n",
    "\n",
    "m = Basemap(projection='cyl',resolution='c', llcrnrlat=20, urcrnrlat=60, llcrnrlon=110, urcrnrlon=160)\n",
    "m.drawcoastlines()\n",
    "x,y = m(downsampled_lon,downsampled_lat)\n",
    "m.pcolormesh(x,y,downsampled_val,cmap='viridis')"
   ]
  },
  {
   "cell_type": "code",
   "execution_count": 28,
   "metadata": {},
   "outputs": [],
   "source": [
    "import rasterio"
   ]
  },
  {
   "cell_type": "code",
   "execution_count": 29,
   "metadata": {},
   "outputs": [],
   "source": [
    "lonmin = np.min(downsampled_lon)\n",
    "latmin = np.min(downsampled_lat)\n",
    "latmax = np.max(downsampled_lat)\n",
    "lon_step = (np.max(downsampled_lon)-np.min(downsampled_lon)) / downsampled_lon.shape[1]\n",
    "lat_step = (np.max(downsampled_lat)-np.min(downsampled_lat)) / downsampled_lat.shape[0]"
   ]
  },
  {
   "cell_type": "code",
   "execution_count": 36,
   "metadata": {},
   "outputs": [],
   "source": [
    "import glob\n",
    "import os"
   ]
  },
  {
   "cell_type": "code",
   "execution_count": 32,
   "metadata": {},
   "outputs": [],
   "source": [
    "mode = 'chl'\n",
    "fpath ='/home/nifs_big/model_web_yj/geo-modelweb/Data/MODEL/new/chl'"
   ]
  },
  {
   "cell_type": "code",
   "execution_count": 37,
   "metadata": {},
   "outputs": [],
   "source": [
    "filelist = glob.glob(f'{fpath}/*.nc')"
   ]
  },
  {
   "cell_type": "code",
   "execution_count": 39,
   "metadata": {},
   "outputs": [
    {
     "name": "stdout",
     "output_type": "stream",
     "text": [
      "/home/nifs_big/model_web_yj/geo-modelweb/Data/MODEL/new/chl/UST21_L3_Merged-Chla-1D_20200902.nc\n",
      "800 800\n",
      "/home/nifs_big/model_web_yj/geo-modelweb/Data/MODEL/new/chl/UST21_L3_Merged-Chla-1D_20200901.nc\n",
      "800 800\n",
      "/home/nifs_big/model_web_yj/geo-modelweb/Data/MODEL/new/chl/UST21_L3_Merged-Chla-1D_20200903.nc\n",
      "800 800\n",
      "/home/nifs_big/model_web_yj/geo-modelweb/Data/MODEL/new/chl/UST21_L3_Merged-Chla-1D_20200904.nc\n",
      "800 800\n",
      "/home/nifs_big/model_web_yj/geo-modelweb/Data/MODEL/new/chl/UST21_L3_Merged-Chla-1D_20200905.nc\n",
      "800 800\n",
      "/home/nifs_big/model_web_yj/geo-modelweb/Data/MODEL/new/chl/UST21_L3_Merged-Chla-1D_20200906.nc\n",
      "800 800\n",
      "/home/nifs_big/model_web_yj/geo-modelweb/Data/MODEL/new/chl/UST21_L3_Merged-Chla-1D_20200907.nc\n",
      "800 800\n",
      "/home/nifs_big/model_web_yj/geo-modelweb/Data/MODEL/new/chl/UST21_L3_Merged-Chla-1D_20200908.nc\n",
      "800 800\n",
      "/home/nifs_big/model_web_yj/geo-modelweb/Data/MODEL/new/chl/UST21_L3_Merged-Chla-1D_20200909.nc\n",
      "800 800\n",
      "/home/nifs_big/model_web_yj/geo-modelweb/Data/MODEL/new/chl/UST21_L3_Merged-Chla-1D_20200910.nc\n",
      "800 800\n",
      "/home/nifs_big/model_web_yj/geo-modelweb/Data/MODEL/new/chl/UST21_L3_Merged-Chla-1D_20200911.nc\n",
      "800 800\n",
      "/home/nifs_big/model_web_yj/geo-modelweb/Data/MODEL/new/chl/UST21_L3_Merged-Chla-1D_20200912.nc\n",
      "800 800\n",
      "/home/nifs_big/model_web_yj/geo-modelweb/Data/MODEL/new/chl/UST21_L3_Merged-Chla-1D_20200913.nc\n",
      "800 800\n",
      "/home/nifs_big/model_web_yj/geo-modelweb/Data/MODEL/new/chl/UST21_L3_Merged-Chla-1D_20200914.nc\n",
      "800 800\n",
      "/home/nifs_big/model_web_yj/geo-modelweb/Data/MODEL/new/chl/UST21_L3_Merged-Chla-1D_20200915.nc\n",
      "800 800\n",
      "/home/nifs_big/model_web_yj/geo-modelweb/Data/MODEL/new/chl/UST21_L3_Merged-Chla-1D_20200916.nc\n",
      "800 800\n",
      "/home/nifs_big/model_web_yj/geo-modelweb/Data/MODEL/new/chl/UST21_L3_Merged-Chla-1D_20200917.nc\n",
      "800 800\n",
      "/home/nifs_big/model_web_yj/geo-modelweb/Data/MODEL/new/chl/UST21_L3_Merged-Chla-1D_20200918.nc\n",
      "800 800\n",
      "/home/nifs_big/model_web_yj/geo-modelweb/Data/MODEL/new/chl/UST21_L3_Merged-Chla-1D_20200919.nc\n",
      "800 800\n",
      "/home/nifs_big/model_web_yj/geo-modelweb/Data/MODEL/new/chl/UST21_L3_Merged-Chla-1D_20200920.nc\n",
      "800 800\n",
      "/home/nifs_big/model_web_yj/geo-modelweb/Data/MODEL/new/chl/UST21_L3_Merged-Chla-1D_20200921.nc\n",
      "800 800\n",
      "/home/nifs_big/model_web_yj/geo-modelweb/Data/MODEL/new/chl/UST21_L3_Merged-Chla-1D_20200922.nc\n",
      "800 800\n",
      "/home/nifs_big/model_web_yj/geo-modelweb/Data/MODEL/new/chl/UST21_L3_Merged-Chla-1D_20200923.nc\n",
      "800 800\n",
      "/home/nifs_big/model_web_yj/geo-modelweb/Data/MODEL/new/chl/UST21_L3_Merged-Chla-1D_20200924.nc\n",
      "800 800\n",
      "/home/nifs_big/model_web_yj/geo-modelweb/Data/MODEL/new/chl/UST21_L3_Merged-Chla-1D_20200925.nc\n",
      "800 800\n",
      "/home/nifs_big/model_web_yj/geo-modelweb/Data/MODEL/new/chl/UST21_L3_Merged-Chla-1D_20200926.nc\n",
      "800 800\n",
      "/home/nifs_big/model_web_yj/geo-modelweb/Data/MODEL/new/chl/UST21_L3_Merged-Chla-1D_20200927.nc\n",
      "800 800\n",
      "/home/nifs_big/model_web_yj/geo-modelweb/Data/MODEL/new/chl/UST21_L3_Merged-Chla-1D_20200928.nc\n",
      "800 800\n",
      "/home/nifs_big/model_web_yj/geo-modelweb/Data/MODEL/new/chl/UST21_L3_Merged-Chla-1D_20200929.nc\n",
      "800 800\n",
      "/home/nifs_big/model_web_yj/geo-modelweb/Data/MODEL/new/chl/UST21_L3_Merged-Chla-1D_20200930.nc\n",
      "800 800\n"
     ]
    }
   ],
   "source": [
    "for f in filelist:\n",
    "    print(f)\n",
    "    nctotiff = NCTOTIFF(f,mode)\n",
    "    nctotiff.read()\n",
    "    val = nctotiff._data\n",
    "    lat = nctotiff._lat[::-1]\n",
    "    lon = nctotiff._lon\n",
    "    latmin = np.min(lat)\n",
    "    lonmin = np.min(lon)\n",
    "    latmax = np.max(lat)\n",
    "    lonmax = np.max(lon)\n",
    "\n",
    "    nx, ny = lon.shape[0], lat.shape[0]\n",
    "    lon_grid = np.linspace(lonmin, lonmax, nx)\n",
    "    lat_grid = np.linspace(latmin, latmax, ny)\n",
    "    lon_grid, lat_grid = np.meshgrid(lon_grid, lat_grid)\n",
    "\n",
    "    points = np.column_stack((lon.ravel(), lat.ravel()))\n",
    "    values = val.ravel()\n",
    "\n",
    "    # mapping to new grid\n",
    "    vis_vals = griddata(points, values, (lon_grid, lat_grid), method='nearest')\n",
    "\n",
    "    # 해상도 설정 (예: 10)\n",
    "    resolution = 1\n",
    "\n",
    "    # val, lat, lon 데이터에 대한 해상도 변경\n",
    "    downsampled_val, downsampled_lat, downsampled_lon = downsample_data_and_grid(vis_vals, lat_grid, lon_grid, resolution)\n",
    "\n",
    "    lonmin = np.min(downsampled_lon)\n",
    "    latmin = np.min(downsampled_lat)\n",
    "    latmax = np.max(downsampled_lat)\n",
    "    lon_step = (np.max(downsampled_lon)-np.min(downsampled_lon)) / downsampled_lon.shape[1]\n",
    "    lat_step = (np.max(downsampled_lat)-np.min(downsampled_lat)) / downsampled_lat.shape[0]\n",
    "\n",
    "    filename = os.path.basename(f).replace('.nc','.tif')\n",
    "\n",
    "    with rasterio.open('/home/nifs_big/model_web_yj/geo-modelweb/Data/MODEL/LAST/chl/'+filename, 'w', \n",
    "                        driver='GTiff', \n",
    "                        height=downsampled_val.shape[0],\n",
    "                        width=downsampled_val.shape[1],\n",
    "                        count=1, \n",
    "                        dtype=downsampled_val.dtype,\n",
    "                        crs='EPSG:4326', \n",
    "                        transform=rasterio.transform.from_origin(lonmin,latmax,lon_step,lat_step),\n",
    "                        ) as dst:\n",
    "                dst.write(downsampled_val[::-1], 1)\n",
    "\n",
    "    "
   ]
  },
  {
   "cell_type": "code",
   "execution_count": null,
   "metadata": {},
   "outputs": [],
   "source": [
    "lonmin = np.min(downsampled_lon)\n",
    "latmin = np.min(downsampled_lat)\n",
    "latmax = np.max(downsampled_lat)\n",
    "lon_step = (np.max(downsampled_lon)-np.min(downsampled_lon)) / downsampled_lon.shape[1]\n",
    "lat_step = (np.max(downsampled_lat)-np.min(downsampled_lat)) / downsampled_lat.shape[0]"
   ]
  },
  {
   "cell_type": "code",
   "execution_count": 30,
   "metadata": {},
   "outputs": [
    {
     "data": {
      "text/plain": [
       "0.03245280742645264"
      ]
     },
     "execution_count": 30,
     "metadata": {},
     "output_type": "execute_result"
    }
   ],
   "source": [
    "lat_step"
   ]
  },
  {
   "cell_type": "code",
   "execution_count": 31,
   "metadata": {},
   "outputs": [],
   "source": [
    "with rasterio.open('./test.tif', 'w', \n",
    "                        driver='GTiff', \n",
    "                        height=downsampled_val.shape[0],\n",
    "                        width=downsampled_val.shape[1],\n",
    "                        count=1, \n",
    "                        dtype=downsampled_val.dtype,\n",
    "                        crs='EPSG:4326', \n",
    "                        transform=rasterio.transform.from_origin(lonmin,latmax,lon_step,lat_step),\n",
    "                        ) as dst:\n",
    "                dst.write(downsampled_val[::-1], 1)"
   ]
  },
  {
   "cell_type": "code",
   "execution_count": null,
   "metadata": {},
   "outputs": [],
   "source": []
  }
 ],
 "metadata": {
  "kernelspec": {
   "display_name": "base",
   "language": "python",
   "name": "python3"
  },
  "language_info": {
   "codemirror_mode": {
    "name": "ipython",
    "version": 3
   },
   "file_extension": ".py",
   "mimetype": "text/x-python",
   "name": "python",
   "nbconvert_exporter": "python",
   "pygments_lexer": "ipython3",
   "version": "3.8.18"
  }
 },
 "nbformat": 4,
 "nbformat_minor": 2
}
